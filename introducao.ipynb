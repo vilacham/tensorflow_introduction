{
 "cells": [
  {
   "cell_type": "markdown",
   "metadata": {},
   "source": [
    "# Introdução ao TensorFlow\n",
    "\n",
    "\n",
    "<img src=\"img/tensorflow.png\" width=200px>\n",
    "\n",
    "Ao longo desta aula, você aplicará seus conhecimentos de redes neurais em conjuntos de dados reais usando o [TensorFlow](https://www.tensorflow.org), uma biblioteca de código aberto de Deep Learning criada pela Google. Você usará o TensorFlow para classificar imagens do conjunto de dados notMNIST - um conjunto de imagens em inglês de A até J. Você pode ver alguns exemplos abaixo.\n",
    "\n",
    "<img src=\"img/notmnist.png\" width=500px>\n",
    "\n",
    "Seu objetivo será detectar automaticamente a letra baseada na imagem do conjunto de dados."
   ]
  },
  {
   "cell_type": "markdown",
   "metadata": {},
   "source": [
    "---\n",
    "## Instalação\n",
    "\n",
    "Um arquivo de ambiente com todos os pacotes necessários para o acompanhamento da aula foi criado e está no mesmo repositório que este notebook (procure por `tf_intro.yaml`). Use o comando abaixo para criar o ambiente a partir dele:\n",
    "\n",
    "`conda env create -f tf_intro.yaml`"
   ]
  },
  {
   "cell_type": "markdown",
   "metadata": {},
   "source": [
    "Após criar e entrar no ambiente `tf_intro`, execute a célula abaixo para garantir que tudo está instalado corretamente. O output deve ser \"Ola, mundo!\". Não se preocupe em entender o que está acontecendo, explicações serão dadas ao longo do notebook."
   ]
  },
  {
   "cell_type": "code",
   "execution_count": 2,
   "metadata": {},
   "outputs": [
    {
     "name": "stdout",
     "output_type": "stream",
     "text": [
      "b'Ola, mundo!'\n"
     ]
    }
   ],
   "source": [
    "import tensorflow as tf\n",
    "\n",
    "hello_constant = tf.constant('Ola, mundo!')\n",
    "\n",
    "with tf.Session() as sess:\n",
    "    output = sess.run(hello_constant)\n",
    "    print(output)"
   ]
  },
  {
   "cell_type": "markdown",
   "metadata": {},
   "source": [
    "---\n",
    "## \"Olá, mundo\" do TensorFlow\n",
    "\n",
    "Nesta seção, vamos analisar o script que foi executado na célula acima."
   ]
  },
  {
   "cell_type": "markdown",
   "metadata": {},
   "source": [
    "### Tensor\n",
    "\n",
    "No TensorFlow, os objetos não são salvos em integers, floats ou strings. estes valores são encapsulados em um objeto chamado tensor. No caso de `hello_constant = tf.constant('Ola, mundo!')`, `hello_constant` é um tensor string de 0 dimensões, mas os tensores podem ter uma variedade de tamanhos, como exposto abaixo:"
   ]
  },
  {
   "cell_type": "code",
   "execution_count": 3,
   "metadata": {},
   "outputs": [],
   "source": [
    "# A é um tensor int32 de 0 dimensões\n",
    "A = tf.constant(1234)\n",
    "\n",
    "# B é um tensor int32 de 1 dimensão\n",
    "B = tf.constant([123, 456, 789])\n",
    "\n",
    "# C é um tensor int32 de 2 dimensões\n",
    "C = tf.constant([[123, 456, 789], [222, 333, 444]])"
   ]
  },
  {
   "cell_type": "markdown",
   "metadata": {},
   "source": [
    "[**`tf.constant`**](https://www.tensorflow.org/api_docs/python/tf/constant) é uma das diversas operações do TensorFlow que usaremos neste notebook. O tensor retornado por [**`tf.constant`**](https://www.tensorflow.org/api_docs/python/tf/constant) é o que chamamos de tensor constante, pois seu valor nunca muda."
   ]
  },
  {
   "cell_type": "markdown",
   "metadata": {},
   "source": [
    "### Sessão\n",
    "\n",
    "A API do TensorFlow é construída em volta da ideia de um grafo computacional, um modo de visualizar processos matemáticos que é discutido no repositório do MiniFlow **(incluir link para repo)**. A figura abaixo ilustra o código do \"Olá, mundo\" transformado em um grafo:\n",
    "\n",
    "<img src=\"img/session.png\">"
   ]
  },
  {
   "cell_type": "markdown",
   "metadata": {},
   "source": [
    "Uma \"Sessão do TensorFlow\", como mostrada acima, é um abiente para rodar um grafo. A sessão é responsável por alocar as operações para as GPU(s) e/ou CPU(s), incluindo máquinas remotas. Vamos executar o \"Olá, mundo\" mais uma vez e logo depois entender como funciona a sessão."
   ]
  },
  {
   "cell_type": "code",
   "execution_count": 4,
   "metadata": {},
   "outputs": [
    {
     "name": "stdout",
     "output_type": "stream",
     "text": [
      "b'Ola, mundo!'\n"
     ]
    }
   ],
   "source": [
    "import tensorflow as tf\n",
    "\n",
    "hello_constant = tf.constant('Ola, mundo!')\n",
    "\n",
    "with tf.Session() as sess:\n",
    "    output = sess.run(hello_constant)\n",
    "    print(output)"
   ]
  },
  {
   "cell_type": "markdown",
   "metadata": {},
   "source": [
    "O código cria o tensor `hello_constant` nas linhas iniciais. O próximo passo é avaliar o tensor na sessão.\n",
    "\n",
    "O código cria uma instância de sessão, `sess`, usando [**`tf.Session`**](https://www.tensorflow.org/api_docs/python/tf/Session). A função [**`sess.run()`**](https://www.tensorflow.org/api_docs/python/tf/Session#run) então avalia o tensor e retorna os resultados."
   ]
  },
  {
   "cell_type": "markdown",
   "metadata": {},
   "source": [
    "---\n",
    "## Input\n",
    "\n",
    "Na seção anterior, passamos um tensor por uma sessão e ele retornou um resultado. E se quisermos usar algo não constante? Aqui é onde a função [**`tf.placeholder()`**](https://www.tensorflow.org/api_docs/python/tf/placeholder) e o `feed_dict` aparecem. Nesta seção, apresentaremos o básico sobre como introduzir dados no TensorFlow."
   ]
  },
  {
   "cell_type": "markdown",
   "metadata": {},
   "source": [
    "### tf.placeholder()\n",
    "\n",
    "Infelizmente, não é possível alocar `x` para o conjunto de dados e colocar isso no TensorFlow, porque com o tempo você irá querer que o seu modelo receba diferentes conjuntos de dados com diferentes parâmetros. Para isso, você precisará do [**`tf.placeholder()`**](https://www.tensorflow.org/api_docs/python/tf/placeholder)!\n",
    "\n",
    "[**`tf.placeholder()`**](https://www.tensorflow.org/api_docs/python/tf/placeholder) retorna um tensor que pega o valor dos dados passados para a função [**`tf.session.run()`**](https://www.tensorflow.org/api_docs/python/tf/Session#run), permitindo que você decida o input logo antes da sessão rodar."
   ]
  },
  {
   "cell_type": "markdown",
   "metadata": {},
   "source": [
    "### feed_dict\n",
    "\n",
    "O parâmetro `feed_dict` é usado na [**`tf.session.run()`**](https://www.tensorflow.org/api_docs/python/tf/Session#run) para alocar o tensor placeholder. O exemplo abaixo mostra o tensor `x` recebendo a string `Ola, mundo`:"
   ]
  },
  {
   "cell_type": "code",
   "execution_count": 5,
   "metadata": {},
   "outputs": [],
   "source": [
    "x = tf.placeholder(tf.string)\n",
    "\n",
    "with tf.Session() as sess:\n",
    "    output = sess.run(x, feed_dict={x: 'Ola, mundo'})"
   ]
  },
  {
   "cell_type": "markdown",
   "metadata": {},
   "source": [
    "Também é possível alocar mais de um tensor usando o `feed_dict`, como feito abaixo:"
   ]
  },
  {
   "cell_type": "code",
   "execution_count": 7,
   "metadata": {},
   "outputs": [],
   "source": [
    "x = tf.placeholder(tf.string)\n",
    "y = tf.placeholder(tf.int32)\n",
    "z = tf.placeholder(tf.float32)\n",
    "\n",
    "with tf.Session() as sess:\n",
    "    outpupt = sess.run(x, feed_dict={x: 'Teste', y: 123, z: 45.67})"
   ]
  },
  {
   "cell_type": "markdown",
   "metadata": {},
   "source": [
    "Caso os dados passados para o `feed_dict` não combinem com o tipo do tensor e não possam ser lançados no tipo do tensor, você obterá o erro \"`ValueError: invalid literal for`...\"."
   ]
  },
  {
   "cell_type": "markdown",
   "metadata": {},
   "source": [
    "---\n",
    "## Matemática com TensorFlow\n",
    "\n",
    "Conseguir o input é ótimo, mas agora precisamos usá-lo. Nesta seção, usaremos as funções matemáticas mais conhecidas (adição, subtração, multiplicação e divisão) com tensores. Existem muitas outras funções matemáticas que podem ser encontradas na [documentação](https://www.tensorflow.org/api_docs/python/math_ops/) do Tensorflow"
   ]
  },
  {
   "cell_type": "markdown",
   "metadata": {},
   "source": [
    "### Adição\n",
    "\n",
    "Começaremos com a função de adição. A função [**`tf.add()`**](https://www.tensorflow.org/api_docs/python/tf/add) faz exatamente o que esperamos que ela faça: recebe dois números, dois tensores ou um de cada, e retorna a soma deles como um tensor."
   ]
  },
  {
   "cell_type": "code",
   "execution_count": 13,
   "metadata": {},
   "outputs": [
    {
     "name": "stdout",
     "output_type": "stream",
     "text": [
      "7\n"
     ]
    }
   ],
   "source": [
    "x = tf.add(5, 2)    # Retorna 7\n",
    "\n",
    "with tf.Session() as sess:\n",
    "    print(sess.run(x))"
   ]
  },
  {
   "cell_type": "markdown",
   "metadata": {},
   "source": [
    "### Subratação, multiplicação e divisão\n",
    "\n",
    "Assim como a função de adição, as funções de subratação, multiplicação e divisão são bastante intuitivas."
   ]
  },
  {
   "cell_type": "code",
   "execution_count": 15,
   "metadata": {},
   "outputs": [
    {
     "name": "stdout",
     "output_type": "stream",
     "text": [
      "10\n",
      "75\n",
      "3\n"
     ]
    }
   ],
   "source": [
    "a = tf.subtract(15, 5)    # Retorna 10\n",
    "b = tf.multiply(15, 5)    # Retorna 75\n",
    "c = tf.div(15, 5)         # Retorna 3\n",
    "\n",
    "with tf.Session() as sess:\n",
    "    print(sess.run(a))\n",
    "    print(sess.run(b))\n",
    "    print(sess.run(c))"
   ]
  },
  {
   "cell_type": "markdown",
   "metadata": {},
   "source": [
    "### Convertendo tipos\n",
    "\n",
    "Pode ser necessário converter tipos para fazer alguns operadores trabalharem juntos. Por exemplo, o código `tf.subtract(tf.constant(2.0), tf.constant(1))` falha ao ser executad.\n",
    "\n",
    "Isso acontece pois `1` é um interger e a constante `2.0` é um ponto flutuante. A operação `subtract` espera que eles combinem.\n",
    "\n",
    "Em casos como este, você pode tanto garantir que os dados sejam sempre do mesmo tipo quanto mudar o tipo de um determinado valor. Neste caso, converter `2.0` para um interger antes de subtrair irá gerar o resultado certo."
   ]
  },
  {
   "cell_type": "markdown",
   "metadata": {},
   "source": [
    "### Exemplo\n",
    "\n",
    "Na célula a seguir, usaremos o TensorFlow para imprimir o resultado da expressão numérica `10 / 2 + 1`:"
   ]
  },
  {
   "cell_type": "code",
   "execution_count": 17,
   "metadata": {},
   "outputs": [
    {
     "name": "stdout",
     "output_type": "stream",
     "text": [
      "4.0\n"
     ]
    }
   ],
   "source": [
    "import tensorflow as tf\n",
    "\n",
    "x = tf.constant(10)\n",
    "y = tf.constant(2)\n",
    "result = tf.subtract(tf.divide(x, y), 1)\n",
    "\n",
    "with tf.Session() as sess:\n",
    "    print(sess.run(result))"
   ]
  },
  {
   "cell_type": "code",
   "execution_count": null,
   "metadata": {},
   "outputs": [],
   "source": []
  }
 ],
 "metadata": {
  "kernelspec": {
   "display_name": "Python 3",
   "language": "python",
   "name": "python3"
  },
  "language_info": {
   "codemirror_mode": {
    "name": "ipython",
    "version": 3
   },
   "file_extension": ".py",
   "mimetype": "text/x-python",
   "name": "python",
   "nbconvert_exporter": "python",
   "pygments_lexer": "ipython3",
   "version": "3.6.5"
  }
 },
 "nbformat": 4,
 "nbformat_minor": 2
}
