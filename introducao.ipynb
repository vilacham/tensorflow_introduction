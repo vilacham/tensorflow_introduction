{
 "cells": [
  {
   "cell_type": "markdown",
   "metadata": {},
   "source": [
    "# Introdução ao TensorFlow\n",
    "\n",
    "\n",
    "<img src=\"img/tensorflow.png\" width=200px>\n",
    "\n",
    "Ao longo desta aula, você aplicará seus conhecimentos de redes neurais em conjuntos de dados reais usando o [TensorFlow](https://www.tensorflow.org), uma biblioteca de código aberto de Deep Learning criada pela Google. Você usará o TensorFlow para classificar imagens do conjunto de dados notMNIST - um conjunto de imagens em inglês de A até J. Você pode ver alguns exemplos abaixo.\n",
    "\n",
    "<img src=\"img/notmnist.png\" width=500px>\n",
    "\n",
    "Seu objetivo será detectar automaticamente a letra baseada na imagem do conjunto de dados."
   ]
  },
  {
   "cell_type": "markdown",
   "metadata": {},
   "source": [
    "## Instalação\n",
    "\n",
    "Um arquivo de ambiente com todos os pacotes necessários para o acompanhamento da aula foi criado e está no mesmo repositório que este notebook (procure por `tf_intro.yaml`). Use o comando abaixo para criar o ambiente a partir dele:\n",
    "\n",
    "`conda env create -f tf_intro.yaml`"
   ]
  },
  {
   "cell_type": "markdown",
   "metadata": {},
   "source": [
    "Após criar e entrar no ambiente `tf_intro`, execute a célula abaixo para garantir que tudo está instalado corretamente. O output deve ser \"Ola, mundo!\". Não se preocupe em entender o que está acontecendo, explicações serão dadas ao longo do notebook."
   ]
  },
  {
   "cell_type": "code",
   "execution_count": 6,
   "metadata": {},
   "outputs": [
    {
     "name": "stdout",
     "output_type": "stream",
     "text": [
      "b'Ola, mundo!'\n"
     ]
    }
   ],
   "source": [
    "import tensorflow as tf\n",
    "\n",
    "hello_constant = tf.constant('Ola, mundo!')\n",
    "\n",
    "with tf.Session() as sess:\n",
    "    output = sess.run(hello_constant)\n",
    "    print(output)"
   ]
  },
  {
   "cell_type": "markdown",
   "metadata": {},
   "source": []
  }
 ],
 "metadata": {
  "kernelspec": {
   "display_name": "Python 3",
   "language": "python",
   "name": "python3"
  },
  "language_info": {
   "codemirror_mode": {
    "name": "ipython",
    "version": 3
   },
   "file_extension": ".py",
   "mimetype": "text/x-python",
   "name": "python",
   "nbconvert_exporter": "python",
   "pygments_lexer": "ipython3",
   "version": "3.6.5"
  }
 },
 "nbformat": 4,
 "nbformat_minor": 2
}
